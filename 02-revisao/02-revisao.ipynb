{
 "cells": [
  {
   "cell_type": "markdown",
   "metadata": {},
   "source": [
    "## PDS - Revisão"
   ]
  },
  {
   "cell_type": "markdown",
   "metadata": {},
   "source": [
    "## 1. Números complexos\n",
    "\n",
    "### Definições:\n",
    "Seja um número complexo $z= a+jb$, os elementos $a$ e $b$ correspondem às suas partes real e imaginária, respectivamente; e $j^2 = -1$.\n",
    "\n",
    "\n",
    "\n"
   ]
  },
  {
   "cell_type": "code",
   "execution_count": 1,
   "metadata": {},
   "outputs": [
    {
     "name": "stdout",
     "output_type": "stream",
     "text": [
      "Número complexo z:  (2+3j)\n",
      "Parte real de z:  2.0\n",
      "Parte imaginária de z:  3.0\n"
     ]
    }
   ],
   "source": [
    "# Importação de módulo matemático\n",
    "import numpy as np\n",
    "\n",
    "# Daclarando um numero complexo z\n",
    "a = 2 # Parte real\n",
    "b = 3 # Parte imaginária\n",
    "z = complex(a,b) # compondo partes real e imaginária\n",
    "\n",
    "# Exibição\n",
    "print( 'Número complexo z: ', z )\n",
    "print( 'Parte real de z: ', z.real )\n",
    "print( 'Parte imaginária de z: ', z.imag )\n"
   ]
  },
  {
   "cell_type": "markdown",
   "metadata": {},
   "source": [
    "### Representação no plano complexo\n",
    "O número complexo $z$ também pode ser representado por um vetor $(a,b)$ sendo, portanto, associado a pontos de um plano (denominado *plano complexo Z*)\n",
    "\n"
   ]
  },
  {
   "cell_type": "code",
   "execution_count": 3,
   "metadata": {},
   "outputs": [
    {
     "data": {
      "image/png": "[encoded data removed]",
      "text/plain": [
       "<matplotlib.figure.Figure at 0x7f8ac01fa630>"
      ]
     },
     "metadata": {
      "needs_background": "light"
     },
     "output_type": "display_data"
    }
   ],
   "source": [
    "# Impotação de módulo para exibição de gráficos\n",
    "import matplotlib.pyplot as plt\n",
    "\n",
    "# Função para traçar gráfico em 2D \n",
    "plt.plot( z.real, z.imag, 'or' )\n",
    "plt.arrow(0, 0, z.real, z.imag, head_width=0.15, head_length=0.15, length_includes_head = True, fc='g', ec='g');\n",
    "\n",
    "# Formatação\n",
    "plt.grid( True )\n",
    "plt.axis( [ -1 , 5, -1, 4 ] )\n",
    "plt.xlabel( 'Parte real de $z$' )\n",
    "plt.ylabel( 'Parte imaginária de $z$' )\n",
    "plt.title( 'Plano complexo $Z$' )\n",
    "\n",
    "# Exibir gráfico\n",
    "plt.show()"
   ]
  },
  {
   "cell_type": "markdown",
   "metadata": {},
   "source": [
    "### Forma cartesiana\n",
    "$z = a + j b$\n",
    "\n",
    "### Forma polar\n",
    "$\\begin{align*}\n",
    "   z &= \\| z\\|\\exp\\{j\\theta\\}\\\\\n",
    "     &= \\|z\\|e^{j\\theta}\n",
    " \\end{align*}$\n",
    " \n",
    "### Conversão de uma representação em outra\n",
    "\n",
    "#### Da forma retangular para polar\n",
    "- $\\|z\\| = \\sqrt{a^2 + b^2}$\n",
    "- $\\theta = \\arctan (b/a)$\n",
    "\n",
    "#### Da forma polar para retangular\n",
    "- $a = \\|z\\|\\cos \\theta$\n",
    "- $b = \\|z\\|\\sin \\theta$\n",
    "\n",
    "### Fórmula de Euler\n",
    "$e^{j\\theta} = \\cos \\theta + j\\sin \\theta$\n",
    "\n",
    "*Demonstração:*\n",
    "\n",
    "$\\begin{align*}\n",
    "   z   &= \\cos \\theta + j \\sin \\theta\\\\\n",
    "   dz  &= (-\\sin \\theta + j \\cos \\theta) d\\theta\\\\\n",
    "       &= j(\\cos \\theta +j\\sin \\theta) d\\theta\\\\\n",
    "       &= jzd\\theta\\\\\n",
    "   \\int \\frac{dz}{z} &= \\int jd\\theta\\\\\n",
    "   \\ln z &= j\\theta\\\\\n",
    "   z &= e^{j\\theta}\n",
    "\\end{align*}$\n"
   ]
  },
  {
   "cell_type": "markdown",
   "metadata": {},
   "source": [
    "## 2. Álgebra Linear\n",
    "\n",
    "### Vetor\n",
    "\n",
    "$\\mathbf x = \\begin{pmatrix} x_1 & x_2 &\\cdots & x_N \\end{pmatrix}^T$\n",
    "- $x_i\\in \\mathbb C$ (escalares)\n",
    "- $N\\in \\mathbb Z$\n",
    "- $\\mathbf x \\in \\mathbb C^N$\n",
    "\n",
    "\n",
    "### Operações\n",
    "#### Soma de dois vetores\n",
    "$\\mathbf x = \\begin{pmatrix} x_1 & x_2 &\\cdots & x_N \\end{pmatrix}^T$,\n",
    "$\\quad\\mathbf y = \\begin{pmatrix} y_1 & y_2 &\\cdots & y_N \\end{pmatrix}^T$\n",
    "\n",
    "$\\mathbf x+\\mathbf y = \\begin{pmatrix} x_1+y_1 & x_2+y_2 &\\cdots & x_N+y_N \\end{pmatrix}^T$\n",
    "#### Multiplicação por escalar\n",
    "$\\mathbf x = \\begin{pmatrix} x_1 & x_2 &\\cdots & x_N \\end{pmatrix}^T$,\n",
    "\n",
    "$\\alpha \\mathbf x = \\begin{pmatrix} \\alpha x_1 & \\alpha x_2 &\\cdots & \\alpha x_N \\end{pmatrix}^T$,\n",
    "#### Produto escalar\n",
    "$\\mathbf x = \\begin{pmatrix} x_1 & x_2 &\\cdots & x_N \\end{pmatrix}^T$,\n",
    "$\\quad\\mathbf y = \\begin{pmatrix} y_1 & y_2 &\\cdots & y_N \\end{pmatrix}^T$\n",
    "\n",
    "$\\begin{align*}\n",
    "<\\mathbf x, \\mathbf y> &= x_1y_1^* + x_2y_2^* + \\cdots + x_Ny_N^*\\\\\n",
    "                       &= \\mathbf x^T \\mathbf y^*                    \n",
    "\\end{align*}$\n",
    "\n",
    "Para o caso em que os vetores são reais\n",
    "\n",
    "$\\begin{equation*}\n",
    "<\\mathbf x, \\mathbf y> = \\|\\mathbf x\\|\\|\\mathbf y\\|\\cos \\phi\n",
    "\\end{equation*}$\n",
    "\n",
    "onde $\\|\\mathbf x\\|^2=  x_1^2 + x_2^2 + \\cdots + x_N^2$\n",
    "\n",
    "Qual a interpretação geométrica de $<\\mathbf x, \\mathbf y>$?\n",
    "\n",
    "\n",
    "### Espaço vetorial de Hilbert\n",
    "Vetores: $\\mathbf x \\in \\mathbb R^\\infty$ ou seja $\\mathbf x = \\begin{pmatrix} x_1 & x_2 &\\cdots \\end{pmatrix}^T$\n",
    "\n",
    "Além disso: $\\|\\mathbf x \\|^2 < \\infty$\n",
    "\n",
    "\n",
    "### Bases\n",
    "Seja $V$ um sub-espaço vetorial, se qualquer vetor de $V$ puder ser expresso pela combinação linear de um conjunto de vetores linearmente independentes $\\{\\mathbf v_1, \\mathbf v_2, \\cdots, \\mathbf v_N \\}$, esse conjunto de vetores forma uma base para o sub-espaço $V$.\n",
    "\n",
    "#### Bases ortogonais\n",
    "Se os vetores $\\{\\mathbf v_1, \\mathbf v_2, \\cdots, \\mathbf v_N \\}$ além de linearmente independentes obedecerem à propriedade\n",
    "\n",
    "$\\begin{equation*}\n",
    "  <\\mathbf v_i, \\mathbf v_j> = \\begin{cases} k, & i=j\\\\ 0, & i\\neq j\\end{cases}\n",
    "\\end{equation*}$\n",
    "\n",
    "diz-se que a base é ortogonal.\n",
    "\n",
    "Um caso de interesse ainda mais particular é quando $k = 1$ (bases ortonormais).\n",
    "\n",
    "\n",
    "###  Algoritmo de Gram-Schmidt\n",
    "\n",
    "- Como transformar uma base qualquer em uma base ortonormal. \n",
    "- Solução de mínimos quadrados e reconstrução truncada da série transformada de Fourier"
   ]
  },
  {
   "cell_type": "markdown",
   "metadata": {},
   "source": [
    "## 3. Série de Fourier\n",
    "### Função periódica\n",
    "$f(t) = f(t+T) \\quad \\forall t$, onde $t\\in \\mathbb R$\n",
    "### Análise\n",
    "$a_k = \\frac{1}{T}\\int\\limits_T f(t) e^{-jk\\Omega_0 t} dt$, $k \\in \\mathbb Z$\n",
    "### Síntese\n",
    "$f(t) = \\sum\\limits_{k=-\\infty}^\\infty a_k e^{jk\\Omega_0 t}$\n",
    "### Reconstrução truncada\n",
    "$f(t) = \\sum\\limits_{k=-M}^M a_k e^{jk\\Omega_0 t}$"
   ]
  }
 ],
 "metadata": {
  "kernelspec": {
   "display_name": "Python 3",
   "language": "python",
   "name": "python3"
  },
  "language_info": {
   "codemirror_mode": {
    "name": "ipython",
    "version": 3
   },
   "file_extension": ".py",
   "mimetype": "text/x-python",
   "name": "python",
   "nbconvert_exporter": "python",
   "pygments_lexer": "ipython3",
   "version": "3.6.9"
  }
 },
 "nbformat": 4,
 "nbformat_minor": 4
}
