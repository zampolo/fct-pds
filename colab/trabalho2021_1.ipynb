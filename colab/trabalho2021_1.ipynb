{
  "nbformat": 4,
  "nbformat_minor": 0,
  "metadata": {
    "colab": {
      "name": "trabalho2021-1.ipynb",
      "provenance": [],
      "mount_file_id": "1sgtgq-RuWvbMXsDgSnFrsl2e97FeEQyM",
      "authorship_tag": "ABX9TyMZFXnFidQ3XnzKYYSZg7H3",
      "include_colab_link": true
    },
    "kernelspec": {
      "name": "python3",
      "display_name": "Python 3"
    },
    "language_info": {
      "name": "python"
    }
  },
  "cells": [
    {
      "cell_type": "markdown",
      "metadata": {
        "id": "view-in-github",
        "colab_type": "text"
      },
      "source": [
        "<a href=\"https://colab.research.google.com/github/zampolo/fct-pds/blob/master/colab/trabalho2021_1.ipynb\" target=\"_parent\"><img src=\"https://colab.research.google.com/assets/colab-badge.svg\" alt=\"Open In Colab\"/></a>"
      ]
    },
    {
      "cell_type": "markdown",
      "metadata": {
        "id": "YhgMKA0MB8Q3"
      },
      "source": [
        "# Trabalho 2021-1: Downsampling e modulação"
      ]
    },
    {
      "cell_type": "markdown",
      "metadata": {
        "id": "PGwnAWKqCZi6"
      },
      "source": [
        "## Carregando módulos"
      ]
    },
    {
      "cell_type": "code",
      "metadata": {
        "id": "2tIwsO78XdNO"
      },
      "source": [
        "import numpy as np\n",
        "import matplotlib.pyplot as plt\n",
        "from scipy.io import wavfile\n",
        "from scipy.fft import fft, ifft, fftshift\n",
        "from scipy import signal\n",
        "#teste para ver como se comporta"
      ],
      "execution_count": null,
      "outputs": []
    },
    {
      "cell_type": "markdown",
      "metadata": {
        "id": "QyenTHMLCeRm"
      },
      "source": [
        "## Definindo os nomes dos arquivos e caminho"
      ]
    },
    {
      "cell_type": "code",
      "metadata": {
        "id": "AedDQfTxYFQP"
      },
      "source": [
        "path = '/content/drive/MyDrive/fct/fct-pds/wav/'\n",
        "file1 = 'audio1.wav'\n",
        "file2 = 'audio2.wav'"
      ],
      "execution_count": null,
      "outputs": []
    },
    {
      "cell_type": "markdown",
      "metadata": {
        "id": "3BQwR3bRCndS"
      },
      "source": [
        "## Carrega arquivos de áudio e exibe algumas informações"
      ]
    },
    {
      "cell_type": "code",
      "metadata": {
        "colab": {
          "base_uri": "https://localhost:8080/"
        },
        "id": "JlneYOGAZXsG",
        "outputId": "791e0305-5d22-4597-c7a3-bcc92114da72"
      },
      "source": [
        "freq_amostragem_1, x1 = wavfile.read( path + file1 )\n",
        "print('Frequência de amostragem: ', freq_amostragem_1)\n",
        "print('Número de amostras e canais: ', x1.shape)\n",
        "\n",
        "freq_amostragem_2, x2 = wavfile.read( path + file2 )\n",
        "print('Frequência de amostragem: ', freq_amostragem_2)\n",
        "print('Número de amostras e canais: ', x2.shape)"
      ],
      "execution_count": null,
      "outputs": [
        {
          "output_type": "stream",
          "text": [
            "Frequência de amostragem:  48000\n",
            "Número de amostras e canais:  (441615,)\n",
            "Frequência de amostragem:  44100\n",
            "Número de amostras e canais:  (418176, 2)\n"
          ],
          "name": "stdout"
        },
        {
          "output_type": "stream",
          "text": [
            "/usr/local/lib/python3.7/dist-packages/ipykernel_launcher.py:5: WavFileWarning: Chunk (non-data) not understood, skipping it.\n",
            "  \"\"\"\n"
          ],
          "name": "stderr"
        }
      ]
    },
    {
      "cell_type": "markdown",
      "metadata": {
        "id": "WD7K0i-jC3el"
      },
      "source": [
        "## Ajusta dimensões dos sinais"
      ]
    },
    {
      "cell_type": "code",
      "metadata": {
        "id": "Mg14Z5yfbg54"
      },
      "source": [
        "# Compatibilizando\n",
        "x1 = 100*x1[:x2.shape[0]]\n",
        "x2 = x2[:,0]"
      ],
      "execution_count": null,
      "outputs": []
    },
    {
      "cell_type": "code",
      "metadata": {
        "colab": {
          "base_uri": "https://localhost:8080/"
        },
        "id": "sXR_ZIu-dSsd",
        "outputId": "35d3d69c-a37a-498e-dddc-ae507f9b4188"
      },
      "source": [
        "print('Número de amostras e canais: ',x1.shape)\n",
        "print('Número de amostras e canais: ',x2.shape)"
      ],
      "execution_count": null,
      "outputs": [
        {
          "output_type": "stream",
          "text": [
            "Número de amostras e canais:  (418176,)\n",
            "Número de amostras e canais:  (418176,)\n"
          ],
          "name": "stdout"
        }
      ]
    },
    {
      "cell_type": "markdown",
      "metadata": {
        "id": "VltYTGaMDQuS"
      },
      "source": [
        "## Downsampling"
      ]
    },
    {
      "cell_type": "code",
      "metadata": {
        "id": "WuVUu38E18OC"
      },
      "source": [
        "x1d = signal.decimate(x1,2)\n",
        "x2d = signal.decimate(x2,2)"
      ],
      "execution_count": null,
      "outputs": []
    },
    {
      "cell_type": "markdown",
      "metadata": {
        "id": "LM2_q9RRDdYJ"
      },
      "source": [
        "## Projeto de filtro de conformação"
      ]
    },
    {
      "cell_type": "code",
      "metadata": {
        "colab": {
          "base_uri": "https://localhost:8080/"
        },
        "id": "2MQ6ZbotAA-l",
        "outputId": "f96b0c09-b7a2-4147-c91b-6eff363a747f"
      },
      "source": [
        "N, Wn = signal.ellipord(1/5, 1/4, 1, 40)\n",
        "b, a = signal.ellip(N, 1, 40, Wn, 'low')\n",
        "print('Ordem do filtro: ',N)\n",
        "print('Coeficientes do denominador da função de transferência: ', a)\n",
        "print('Coeficientes do numerador da função de transferência: ',b)"
      ],
      "execution_count": null,
      "outputs": [
        {
          "output_type": "stream",
          "text": [
            "Ordem do filtro:  5\n",
            "Coeficientes do denominador da função de transferência:  [ 1.         -3.90428596  6.58189562 -5.89390495  2.79348081 -0.5599263 ]\n",
            "Coeficientes do numerador da função de transferência:  [ 0.01532081 -0.02208251  0.01539131  0.01539131 -0.02208251  0.01532081]\n"
          ],
          "name": "stdout"
        }
      ]
    },
    {
      "cell_type": "code",
      "metadata": {
        "colab": {
          "base_uri": "https://localhost:8080/",
          "height": 269
        },
        "id": "lqSk95LDDn_e",
        "outputId": "e5139734-8344-44c2-a28c-849376b2ea27"
      },
      "source": [
        "# Gráfico da magnitude da resposta em frequência do filtro de conformação\n",
        "w, h = signal.freqz(b, a)\n",
        "plt.semilogx(w, 20 * np.log10(abs(h)))\n",
        "plt.grid(True)\n",
        "plt.show()"
      ],
      "execution_count": null,
      "outputs": [
        {
          "output_type": "display_data",
          "data": {
            "image/png": "[encoded data removed]",
            "text/plain": [
              "<Figure size 432x288 with 1 Axes>"
            ]
          },
          "metadata": {
            "tags": [],
            "needs_background": "light"
          }
        }
      ]
    },
    {
      "cell_type": "markdown",
      "metadata": {
        "id": "i_262FzTEEhW"
      },
      "source": [
        "## Conformação dos sinais (filtragem)"
      ]
    },
    {
      "cell_type": "code",
      "metadata": {
        "id": "l04qYvK06uAq"
      },
      "source": [
        "x11 = signal.lfilter(b,a,x1d)\n",
        "x22 = signal.lfilter(b,a,x2d)\n"
      ],
      "execution_count": null,
      "outputs": []
    },
    {
      "cell_type": "markdown",
      "metadata": {
        "id": "NO-lTJu1EjFV"
      },
      "source": [
        "## Modulação"
      ]
    },
    {
      "cell_type": "code",
      "metadata": {
        "id": "VAQJy-9OEhJF"
      },
      "source": [
        "w1 = 2* np.pi /5\n",
        "n = np.arange(len(x11))\n",
        "x1m = x11 * np.cos(w1 * n)\n",
        "\n",
        "w2 = 4* np.pi /5\n",
        "n = np.arange(len(x22))\n",
        "x2m = x22 * np.cos(w2 * n)"
      ],
      "execution_count": null,
      "outputs": []
    },
    {
      "cell_type": "markdown",
      "metadata": {
        "id": "t5aubSiFEnZi"
      },
      "source": [
        "## Soma dos sinais modulados"
      ]
    },
    {
      "cell_type": "code",
      "metadata": {
        "id": "Ly7UCSAD-d_0"
      },
      "source": [
        "y = x1m + x2m\n"
      ],
      "execution_count": null,
      "outputs": []
    }
  ]
}